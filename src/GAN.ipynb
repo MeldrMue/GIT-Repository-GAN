{
 "cells": [
  {
   "cell_type": "code",
   "execution_count": 11,
   "id": "2ba4c169-e4b6-475f-9036-e9f67670eb4f",
   "metadata": {},
   "outputs": [],
   "source": [
    "import torch\n",
    "import torchvision\n",
    "import torch.nn as nn\n",
    "from torchvision import transforms\n",
    "from PIL import Image\n",
    "from os import listdir\n",
    "\n",
    "import numpy as np\n",
    "import torch.nn.functional as F\n",
    "import torch.optim as optim\n",
    "import matplotlib.pyplot as plt\n",
    "import math"
   ]
  },
  {
   "cell_type": "code",
   "execution_count": 12,
   "id": "1ad9399a-7798-41aa-a799-a73fac3914ce",
   "metadata": {},
   "outputs": [
    {
     "name": "stdout",
     "output_type": "stream",
     "text": [
      "This Conputation is running on cpu\n"
     ]
    }
   ],
   "source": [
    "import gc\n",
    "\n",
    "gc.collect()\n",
    "torch.cuda.empty_cache()\n",
    "\n",
    "device = torch.device('cuda:0' if torch.cuda.is_available() else 'cpu')\n",
    "print('This Conputation is running on {}'.format(device))"
   ]
  },
  {
   "cell_type": "markdown",
   "id": "3f04f1b6-6e52-4e84-80df-88dc7d01053f",
   "metadata": {},
   "source": [
    "Bilder importieren\n",
    "-"
   ]
  },
  {
   "cell_type": "code",
   "execution_count": 3,
   "id": "00ac06b2-972d-4936-9960-605d5888d642",
   "metadata": {},
   "outputs": [],
   "source": [
    "transforms = transforms.Compose([transforms.Resize(32),\n",
    "                                 transforms.CenterCrop(32),\n",
    "                                 transforms.ToTensor()\n",
    "                                ])\n",
    "#transforms = transforms.ToTensor()\n",
    "#Batch_size definieren, um Variable wieder zu verwenden und spätere Fehler zu vermeiden\n",
    "#batchSize = 7 - BatchSize für Simpsonbilder\n",
    "\n",
    "batchSize = 10\n",
    "channels = 3\n",
    "image_size = 32\n",
    "input_dim = channels*image_size*image_size\n",
    "\n",
    "#Bilder aus dem verzeichnis in einen Tensor schreiben\n",
    "true_images_list = []\n",
    "for f in listdir('C:/Users/meldr/PythonProjects/GAN-Bilder/AnimeTMgroß/'):\n",
    "    img = Image.open(\"C:/Users/meldr/PythonProjects/GAN-Bilder/AnimeTMgroß/\" + f) # f ist gleich der Dateiname\n",
    "    img_tensor = transforms(img) #(3,100,100)\n",
    "    true_images_list.append(img_tensor)\n",
    "train_data = torch.stack(true_images_list) #Liste mit Image-Tensoren\n",
    "\n",
    "#DataLoader für echte Bilder\n",
    "trueloader = torch.utils.data.DataLoader(train_data, batch_size=batchSize, shuffle=True, num_workers=1) #pin_memory=True -> GPU"
   ]
  },
  {
   "cell_type": "code",
   "execution_count": 4,
   "id": "b2df3ffe-ca30-4393-b3e5-86960bdc8e42",
   "metadata": {
    "tags": []
   },
   "outputs": [],
   "source": [
    "class Generator(nn.Module):\n",
    "    def __init__(self):\n",
    "        super(Generator,self).__init__() #Superkonstruktor für das NN\n",
    "        #decoder\n",
    "        #batch_size = 4, size = 2500 (50x50 Pixel)\n",
    "        #output size = (inputsize-1)*stride - 2*padding + (kernelsize-1)+1\n",
    "        self.generate = nn.Sequential(\n",
    "            nn.ConvTranspose2d(3, 16, 4, stride=2, padding=2), #Output Generator:torch.Size([10, 16, 14, 14])\n",
    "            nn.ReLU(), #Relu-Aktivierungsfunktion\n",
    "            #nn.BatchNorm2d(16),\n",
    "            nn.ConvTranspose2d(16, 32, 6, stride=1, padding=2), #Output Generator:torch.Size([10, 32, 15, 15])\n",
    "            nn.ReLU(), #Relu-Aktivierungsfunktion\n",
    "            #nn.BatchNorm2d(32),\n",
    "            nn.ConvTranspose2d(32, 3, 6, stride=2, padding=1), #Output Generator:torch.Size([10, 3, 32, 32])\n",
    "            #Sigmoid-Aktivierungsfunktion, wenn unsere Werte zwischen 0 und 1 sind\n",
    "            #Tanh-Aktivierungsfunktion, wenn unsere Werte zwischen -1 und 1 sind\n",
    "            nn.Sigmoid() \n",
    "        )\n",
    "        \n",
    "    def forward(self,x):\n",
    "        #print(f'Input Generator:{x.shape}')\n",
    "        generated = self.generate(x)\n",
    "        #print(f'Output Generator:{generated.shape}')\n",
    "        return generated\n",
    "    \n"
   ]
  },
  {
   "cell_type": "code",
   "execution_count": 5,
   "id": "394e126f-5106-4a00-ab16-82e3621d1dce",
   "metadata": {},
   "outputs": [],
   "source": [
    "class Discriminator(nn.Module):\n",
    "    def __init__(self):\n",
    "        super(Discriminator,self).__init__() #Superkonstruktor für das NN\n",
    "        \n",
    "        #batch_size = 4, size = 2500 (50x50 Pixel)\n",
    "        self.discriminate = nn.Sequential(\n",
    "            nn.Conv2d(3, 64, 5, stride=2, padding=1), # 2500=(1+2500-5+2*2)/1\n",
    "            nn.ReLU(), #Relu-Aktivierungsfunktion\n",
    "            #nn.BatchNorm2d(64),\n",
    "            nn.Conv2d(64, 32, 5, stride=2, padding=1), # 625=(1+2500-5+2*2)/2\n",
    "            nn.ReLU(), #Relu-Aktivierungsfunktion\n",
    "            #nn.BatchNorm2d(32),\n",
    "            nn.Conv2d(32, 16, 5, stride=2, padding=2), # 125=(1+625-5+2*2)/2\n",
    "            nn.Sigmoid() \n",
    "        )\n",
    "        \n",
    "    def forward(self,x):\n",
    "        #print(f'Input Discriminator:{x.shape}')\n",
    "        discriminated = self.discriminate(x)\n",
    "        #print(f'Output Discriminator:{discriminated.shape}')\n",
    "        return discriminated\n",
    "    \n"
   ]
  },
  {
   "cell_type": "code",
   "execution_count": 6,
   "id": "7ea0a2f2-8d74-4875-8aa4-68200cb1e44c",
   "metadata": {},
   "outputs": [],
   "source": [
    "generator = Generator().to(device)\n",
    "discriminator = Discriminator().to(device)\n",
    "\n",
    "criterion = nn.BCELoss().to(device)\n",
    "gen_optimizer = optim.SGD(generator.parameters(), lr=0.0000001, momentum=0.5)\n",
    "discr_optimizer = optim.SGD(discriminator.parameters(), lr=0.0000001, momentum=0.5)"
   ]
  },
  {
   "cell_type": "code",
   "execution_count": 7,
   "id": "0d870446-5be0-4bfb-b379-d5898ea51945",
   "metadata": {},
   "outputs": [
    {
     "name": "stdout",
     "output_type": "stream",
     "text": [
      "0\n",
      "1\n",
      "2\n",
      "3\n",
      "4\n"
     ]
    }
   ],
   "source": [
    "#Definition der Target-Werte, um den Loss zu berechnen\n",
    "#true_target = torch.ones(batchSize, 256, 197, 197, dtype=torch.float).to(device)\n",
    "#Die echten Inputs sollen auf den Wert 1 trainiert werden\n",
    "#torch.ones: Gibt einen Tensor zurück, der mit dem Skalarwert 1 gefüllt ist  \n",
    "#und dessen Form durch das variable Argument size definiert ist. \n",
    "#Bspw. torch.ones(5) -> tensor([ 1.,  1.,  1.,  1.,  1.])\n",
    "\n",
    "#false_target = torch.zeros(batchSize,125,3,3, dtype=torch.long).to(device)\n",
    "#Die falschen Inputs sollen auf en Wert 0 trainiert werden\n",
    "#torch.zeros: Gibt einen Tensor zurück, der mit dem Skalarwert 0 gefüllt ist  \n",
    "#und dessen Form durch das variable Argument size definiert ist. \n",
    "#Bspw. torch.zeros(5) -> tensor([ 0.,  0.,  0.,  0.,  0.])\n",
    "outputs = []\n",
    "real_outputs = []   \n",
    "fake_outputs = [] \n",
    "foutput = None\n",
    "\n",
    "fake_image = torch.rand(batchSize,3,8,8,device=device)\n",
    "for epoch in range(5):\n",
    "    #cuda-cache leeren\n",
    "    print(epoch)\n",
    "    gc.collect()\n",
    "    torch.cuda.empty_cache()\n",
    "\n",
    "    for true_image in trueloader:\n",
    "       \n",
    "        #1.Erstellung einer Random-Noise\n",
    "        #fake_image = torch.rand(batchSize,3,50,50).to(device) #torch.Size([3, 200, 200])\n",
    "              \n",
    "        \n",
    "        ###### Train Generator\n",
    "        #Gradienten des Generators zurücksetzen\n",
    "        gen_optimizer.zero_grad()    \n",
    "        \n",
    "        #G.1 Daten mit der Random-Noise generieren\n",
    "        fake_generated = generator(fake_image)\n",
    "        #G.2 Fehler mit der fake_generated und den Target 11111... berechnen\n",
    "        loss_gen_fake = criterion(fake_generated,torch.ones(batchSize, 3, 32, 32, dtype=torch.float, device=device))   \n",
    "        #G.3 Backpropagation für die fake_generated des Generators        \n",
    "        loss_gen_fake.backward()\n",
    "        #G.4 Gewichte des Generators mit dem Gradienten aktualisieren\n",
    "        gen_optimizer.step()    \n",
    "        #G.5 Generated Image in outputs speichern\n",
    "            \n",
    "            \n",
    "        ####### Train Discriminator\n",
    "        #Gradienten des Discriminators zurücksetzen\n",
    "        discr_optimizer.zero_grad()\n",
    "    \n",
    "        #D.1 Train Discriminator mit generierten Fake-Images\n",
    "        fake_prediction = discriminator(fake_generated.detach())\n",
    "        #D.2 Fehler mit der fake_prediction und den Target 11111... berechnen\n",
    "        loss_discr_fake = criterion(fake_prediction, torch.zeros(batchSize,16, 4, 4, dtype=torch.float, device=device))\n",
    "        #D.3 Backpropagation für die Fake-Prediction des Discriminators\n",
    "        loss_discr_fake.backward()\n",
    "        #D.4 Train Discriminator mit True-Images\n",
    "        true_prediction = discriminator(true_image.to(device))\n",
    "        #D.5 Fehler mit der true_prediction und den Target 11111... berechnen\n",
    "        loss_discr_true = criterion(true_prediction, torch.ones(batchSize,16, 4, 4, dtype=torch.float,device=device))\n",
    "        #D.6 Backpropagation für die True-Prediction des Discriminators\n",
    "        loss_discr_true.backward()\n",
    "\n",
    "        #D.7 Gewichte des Discriminators mit dem Gradienten aktualisieren\n",
    "        discr_optimizer.step()\n",
    "        \n",
    "        real_outputs.append(true_image)   \n",
    "        fake_outputs.append(fake_generated)\n",
    "        foutput = fake_generated.cpu()\n",
    "        #print(foutput.shape)\n"
   ]
  },
  {
   "cell_type": "code",
   "execution_count": 8,
   "id": "423e7a14-80b9-4efd-b6e6-f82adf8122c5",
   "metadata": {},
   "outputs": [
    {
     "data": {
      "image/png": "[encoded data removed]",
      "text/plain": [
       "<Figure size 432x288 with 1 Axes>"
      ]
     },
     "metadata": {
      "needs_background": "light"
     },
     "output_type": "display_data"
    }
   ],
   "source": [
    "##outputs.append((true_image,fake_generated)) \n",
    "###outputs[art][batch][image]\n",
    "\n",
    "#outputs[0] -> Alle Batches (10) mit true_images\n",
    "#outputs[0][i] -> i-ter Batch mit 10 true_images\n",
    "#outputs[0][i][n] -> i-ter Batch mit dem n-ten true_images aus dem batch\n",
    "\n",
    "#outputs[1] -> Alle Batches (10) mit true_images\n",
    "#outputs[1][i] -> i-ter Batch mit 10 true_images\n",
    "#outputs[1][i][n] -> i-ter Batch mit dem n-ten true_images aus dem batch\n",
    "#Epochen = 5 - Batches = 520 - Batchgröße = 10\n",
    "for epoch in range(5):\n",
    "    for batch in range(1):\n",
    "        #true_batch = outputs[0][batch]\n",
    "        fake_batch = fake_outputs[batch]\n",
    "        #true_grid_img = torchvision.utils.make_grid(true_batch, nrow=10).cpu()\n",
    "        fake_grid_img = torchvision.utils.make_grid(fake_batch, nrow=5).cpu()\n",
    "        #plt.imshow(true_grid_img.permute(1, 2, 0))\n",
    "        plt.imshow(fake_grid_img.permute(1, 2, 0))"
   ]
  },
  {
   "cell_type": "code",
   "execution_count": 9,
   "id": "c5fa2c27-8868-46c7-81c1-aacdaa02b8d0",
   "metadata": {},
   "outputs": [
    {
     "name": "stdout",
     "output_type": "stream",
     "text": [
      "torch.Size([3, 32, 32])\n",
      "torch.Size([3, 32, 32])\n",
      "torch.Size([3, 32, 32])\n",
      "torch.Size([3, 32, 32])\n",
      "torch.Size([3, 32, 32])\n",
      "torch.Size([3, 32, 32])\n",
      "torch.Size([3, 32, 32])\n",
      "torch.Size([3, 32, 32])\n",
      "torch.Size([3, 32, 32])\n",
      "torch.Size([3, 32, 32])\n",
      "<class 'list'>\n",
      "10\n"
     ]
    }
   ],
   "source": [
    "#print(foutput.shape)\n",
    "#print(foutput.type)\n",
    "tup_foutput = []\n",
    "tup_foutput = torch.tensor_split(foutput, 10, dim=0)\n",
    "arr_foutput = []\n",
    "for x in tup_foutput:\n",
    "    x = torch.squeeze(x)\n",
    "    print(x.shape)\n",
    "    arr_foutput.append(x)\n",
    "print(type(arr_foutput))\n",
    "print(len(arr_foutput))"
   ]
  },
  {
   "cell_type": "code",
   "execution_count": 10,
   "id": "f15c79b8-3ba8-4326-a3f1-a443d82525e8",
   "metadata": {
    "tags": []
   },
   "outputs": [
    {
     "data": {
      "image/png": "[encoded data removed]",
      "text/plain": [
       "<Figure size 432x288 with 1 Axes>"
      ]
     },
     "metadata": {
      "needs_background": "light"
     },
     "output_type": "display_data"
    }
   ],
   "source": [
    "def imshow(img):\n",
    "    img = img / 2 + 0.5     # unnormalize\n",
    "    npimg = img.detach().numpy()\n",
    "    plt.imshow(np.transpose(npimg, (1, 2, 0)))\n",
    "    plt.show()\n",
    "\n",
    "\n",
    "# Erhalten Sie zufällig Trainingsbilder\n",
    "#dataiter = iter(arr_foutput)\n",
    "#images, labels = dataiter.next()\n",
    "\n",
    "# Bild anzeigen\n",
    "#imshow(torchvision.utils.make_grid(arr_foutput))\n",
    "\n",
    "\n",
    "#Einzelnes Bild ausgeben\n",
    "img = arr_foutput[0].detach().numpy()\n",
    "nimg = np.transpose(img, (1, 2, 0))\n",
    "plt.imshow(nimg)\n",
    "plt.show()"
   ]
  },
  {
   "cell_type": "code",
   "execution_count": null,
   "id": "658eb787-c81b-4834-9b40-21ccdc0b8380",
   "metadata": {},
   "outputs": [],
   "source": []
  }
 ],
 "metadata": {
  "kernelspec": {
   "display_name": "Python 3",
   "language": "python",
   "name": "python3"
  },
  "language_info": {
   "codemirror_mode": {
    "name": "ipython",
    "version": 3
   },
   "file_extension": ".py",
   "mimetype": "text/x-python",
   "name": "python",
   "nbconvert_exporter": "python",
   "pygments_lexer": "ipython3",
   "version": "3.8.8"
  }
 },
 "nbformat": 4,
 "nbformat_minor": 5
}
